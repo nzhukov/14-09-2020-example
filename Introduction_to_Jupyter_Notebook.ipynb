{
  "nbformat": 4,
  "nbformat_minor": 0,
  "metadata": {
    "celltoolbar": "Slideshow",
    "kernelspec": {
      "display_name": "Python 3",
      "language": "python",
      "name": "python3"
    },
    "language_info": {
      "codemirror_mode": {
        "name": "ipython",
        "version": 3
      },
      "file_extension": ".py",
      "mimetype": "text/x-python",
      "name": "python",
      "nbconvert_exporter": "python",
      "pygments_lexer": "ipython3",
      "version": "3.8.5"
    },
    "colab": {
      "provenance": [],
      "include_colab_link": true
    }
  },
  "cells": [
    {
      "cell_type": "markdown",
      "metadata": {
        "id": "view-in-github",
        "colab_type": "text"
      },
      "source": [
        "<a href=\"https://colab.research.google.com/github/nzhukov/14-09-2020-example/blob/master/Introduction_to_Jupyter_Notebook.ipynb\" target=\"_parent\"><img src=\"https://colab.research.google.com/assets/colab-badge.svg\" alt=\"Open In Colab\"/></a>"
      ]
    },
    {
      "cell_type": "markdown",
      "metadata": {
        "id": "__tV14OBO6Bo"
      },
      "source": [
        "# Jupyter Notebook — среда организации научной деятельности, исследований и интерактивной разработки\n",
        "\n",
        "\n",
        "Николай Николаевич Жуков, nzhukov@itmo.ru\n",
        "\n",
        "_Санкт-Петербург, 2020 год_"
      ]
    },
    {
      "cell_type": "markdown",
      "metadata": {
        "id": "hZsmBUx1O6Bq"
      },
      "source": [
        "## Мотивация\n",
        "\n",
        "> Большинство ученых по всему миру используют Jupyter Notebook в качестве редактора для машинного обучения, исследований и экспериментов. Jupyter Notebook поддерживает Python, Java, R, Julia, Matlab, Octave, Scheme, Processing, Scala и многие другие.\n",
        "\n",
        "_https://www.machinelearningmastery.ru/jupyter-notebook-in-visual-studio-code-3fc21a36fe43/_\n",
        "\n",
        "Как вы думаете, почему?"
      ]
    },
    {
      "cell_type": "markdown",
      "metadata": {
        "id": "qiUjKKgHO6Bs"
      },
      "source": [
        "В науке и исследованиях важна:\n",
        "\n",
        "- повторяемость результатов и проверяемость их учеными и исследователями данного направления и области,\n",
        "- визуальная простота самой среды и богатые возможности по визуализации различных данных,\n",
        "- мультимодальность (текст, изображение, видео),\n",
        "- поддержка большого количества языковых средств,\n",
        "- быстрота работы, развертывания, богатые возможности экспорта отдельных фрагментов и всего объема исследования."
      ]
    },
    {
      "cell_type": "markdown",
      "metadata": {
        "id": "1TRScJ4nO6Bu"
      },
      "source": [
        "## Решение\n",
        "\n",
        "Реализовать инструмент, где можно организовывать вычислительный эксперимент, организовывать моделирование, писать текст и подводить итоги, при этом этом можно использовать множество современных языков программирования, ит-инструментов (например, работать в консоли)\n"
      ]
    },
    {
      "cell_type": "markdown",
      "metadata": {
        "id": "48csy8DrO6Bv"
      },
      "source": [
        "## Jupyter Notebook (ранее IPython Notebooks)\n",
        "\n",
        "Jupyter Notebook (ранее IPython Notebooks) — веб-базированная интерактивная среда для организации вычислений, базирующихся на т. н. ноутбуках (блокнотах).\n",
        "\n",
        "Строго говоря, ноутбук — это веб-приложение (документ), сервер для которого реализуется с помощью Python. Сам по себе документ - это файл в формате json с определенной структурой, содержащий упорядоченный список блоков (которые называются ячейками в терминологии этой программы).\n",
        "\n",
        "\n",
        "> Jupyter Notebook (formerly IPython Notebooks) is a web-based interactive computational environment for creating Jupyter notebook documents. The \"notebook\" term can colloquially make reference to many different entities, mainly the Jupyter web application, Jupyter Python web server, or Jupyter document format depending on context. A Jupyter Notebook document is a JSON document, following a versioned schema, and containing an ordered list of input/output cells which can contain code, text (using Markdown), mathematics, plots and rich media, usually ending with the \".ipynb\" extension."
      ]
    },
    {
      "cell_type": "markdown",
      "metadata": {
        "id": "iueK6nS2O6Bx"
      },
      "source": [
        "## Виды ячеек и их формат\n",
        "Ячейки бывают двух видов: \"ввод\" и \"вывод\". Содержимое ячейки может быть введено пользователем и получено в результате вычисления того, что пользователь ввёл (код или текст).\n",
        "\n",
        "Ячеки могут содержать текст (форматирование преимущественно организуется в Markdown или реже в HTML), программный код, графику, мультимедия.\n",
        "Расширение ноутбука - .ipynb."
      ]
    },
    {
      "cell_type": "code",
      "metadata": {
        "id": "xV4w-E7DO6Bz",
        "outputId": "eba027fb-b666-4699-af9c-6ec13853597a",
        "colab": {
          "base_uri": "https://localhost:8080/",
          "height": 69
        }
      },
      "source": [
        "%%html\n",
        "<div class=\"fluid-container\"\n",
        "<div class=\"row\">\n",
        "    <div class=\"col-md-1\" style=\"background-color: red;\">привет</div>\n",
        "    <div class=\"col-md-6\" style=\"background-color: green;\">привет</div>\n",
        "    <div class=\"col-md-5\" style=\"background-color: pink;\">привет</div>\n",
        "</div>"
      ],
      "execution_count": 1,
      "outputs": [
        {
          "output_type": "display_data",
          "data": {
            "text/plain": [
              "<IPython.core.display.HTML object>"
            ],
            "text/html": [
              "<div class=\"fluid-container\"\n",
              "<div class=\"row\">\n",
              "    <div class=\"col-md-1\" style=\"background-color: red;\">привет</div>\n",
              "    <div class=\"col-md-6\" style=\"background-color: green;\">привет</div>\n",
              "    <div class=\"col-md-5\" style=\"background-color: pink;\">привет</div>\n",
              "</div>\n"
            ]
          },
          "metadata": {}
        }
      ]
    },
    {
      "cell_type": "code",
      "source": [
        "%%shell\n",
        "\n",
        "touch hello-students.txt\n",
        "\n",
        "echo \"Привет, студентам\" >> hello-students.txt"
      ],
      "metadata": {
        "colab": {
          "base_uri": "https://localhost:8080/",
          "height": 0
        },
        "id": "Wwso0FvB8u2k",
        "outputId": "cf96e431-f1bc-479c-aa2f-039a9ffcbbc2"
      },
      "execution_count": 3,
      "outputs": [
        {
          "output_type": "execute_result",
          "data": {
            "text/plain": []
          },
          "metadata": {},
          "execution_count": 3
        }
      ]
    },
    {
      "cell_type": "code",
      "source": [],
      "metadata": {
        "id": "H4GIwzGv91tC"
      },
      "execution_count": null,
      "outputs": []
    },
    {
      "cell_type": "markdown",
      "metadata": {
        "id": "i_KsLTgiO6B6"
      },
      "source": [
        "> A Jupyter Notebook can be converted to a number of open standard output formats (HTML, presentation slides, LaTeX, PDF, ReStructuredText, Markdown, Python) through \"Download As\" in the web interface, via the nbconvert library or \"jupyter nbconvert\" command line interface in a shell. To simplify visualisation of Jupyter notebook documents on the web, the nbconvert library is provided as a service through NbViewer which can take a URL to any publicly available notebook document, convert it to HTML on the fly and display it to the user.\n",
        "\n",
        "\n",
        "\n",
        "```\n",
        "# Выбран кодовый формат\n",
        "```\n",
        "\n",
        "😴\n",
        "\n",
        "| № | Тип данных / объекты СУБД MySQL | Описание / характеристики |\n",
        "|---| ----------- | ----------- |\n",
        "|   |               |             |\n",
        "\n"
      ]
    },
    {
      "cell_type": "markdown",
      "metadata": {
        "id": "3pi9ZxqYO6B7"
      },
      "source": [
        "## Мультимедиа"
      ]
    },
    {
      "cell_type": "code",
      "metadata": {
        "id": "qdbN8IfJO6B8",
        "colab": {
          "base_uri": "https://localhost:8080/",
          "height": 336
        },
        "outputId": "4e3c3b2a-f063-4104-d2dc-984d0ef0d208"
      },
      "source": [
        "%%html\n",
        "\n",
        "<iframe width=\"560\" height=\"315\" src=\"https://www.youtube.com/embed/q4d-hKCpTEc?si=xVc0dQlcu_PURXSo\" title=\"YouTube video player\" frameborder=\"0\" allow=\"accelerometer; autoplay; clipboard-write; encrypted-media; gyroscope; picture-in-picture; web-share\" allowfullscreen></iframe>"
      ],
      "execution_count": 4,
      "outputs": [
        {
          "output_type": "display_data",
          "data": {
            "text/plain": [
              "<IPython.core.display.HTML object>"
            ],
            "text/html": [
              "\n",
              "<iframe width=\"560\" height=\"315\" src=\"https://www.youtube.com/embed/q4d-hKCpTEc?si=xVc0dQlcu_PURXSo\" title=\"YouTube video player\" frameborder=\"0\" allow=\"accelerometer; autoplay; clipboard-write; encrypted-media; gyroscope; picture-in-picture; web-share\" allowfullscreen></iframe>\n"
            ]
          },
          "metadata": {}
        }
      ]
    },
    {
      "cell_type": "markdown",
      "metadata": {
        "id": "AKuxVmsyO6CC"
      },
      "source": [
        "## 7. Экспортирование в другие форматы (pdf, html), презентацию (reveal.js)\n",
        "\n",
        "\n",
        "### Преобразование конспекта лекции в презентацию\n",
        "\n",
        "```View - Cell Toolbar - Slideshow```\n",
        "\n",
        "### Команды для конвертации в слайды и html\n",
        "```sh\n",
        "jupyter nbconvert Lecture\\ 01.\\ Introduction.ipynb --to slides --post serve\n",
        "jupyter nbconvert Lecture\\ 01.\\ Introduction.ipynb --to html\n",
        "\n",
        "```\n",
        "\n",
        "``` wkhtmltopdf notebook.html fn.pdf ```"
      ]
    },
    {
      "cell_type": "markdown",
      "metadata": {
        "id": "UYnRC8SHO6CE"
      },
      "source": [
        "## 8. Интеграция различных видов графиков\n",
        "\n",
        "В основе богатых возможнсотей по визуализации данных - использование библиотек Python для построения графиков:\n",
        "Mathplotlib, bokeh, seaborn, ...\n",
        "\n",
        "\n",
        "> Matplotlib - библиотека на языке программирования Python для визуализации данных двумерной (2D) графикой (3D графика также поддерживается).\n",
        "\n",
        "Возможности:\n",
        "\n",
        "> Matplotlib является гибким, легко конфигурируемым пакетом, который вместе с NumPy, SciPy и IPython предоставляет возможности, подобные MATLAB. В настоящее время пакет работает с несколькими графическими библиотеками, включая wxWindows и PyGTK.\n",
        "\n"
      ]
    },
    {
      "cell_type": "markdown",
      "metadata": {
        "id": "TYgDlzSGO6CF"
      },
      "source": [
        "Пакет поддерживает многие виды графиков и диаграмм:\n",
        "\n",
        "- Графики (line plot)\n",
        "- Диаграммы разброса (scatter plot)\n",
        "- Столбчатые диаграммы (bar chart) и гистограммы (histogram)\n",
        "- Круговые диаграммы (pie chart)\n",
        "- Ствол-лист диаграммы (stem plot)\n",
        "- Контурные графики (contour plot)\n",
        "- Поля градиентов (quiver)\n",
        "- Спектральные диаграммы (spectrogram)\n",
        "\n",
        "Пользователь может указать оси координат, решетку, добавить надписи и пояснения, использовать логарифмическую шкалу или полярные координаты.\n",
        "\n",
        "Несложные трёхмерные графики можно строить с помощью набора инструментов (toolkit) mplot3d.\n",
        "\n",
        "С помощью Matplotlib можно делать и анимированные изображения.\n",
        "\n",
        "Поддерживаемые графические форматы файлов (растр, вектор):\n",
        "\n",
        "- png\n",
        "- pdf\n",
        "- jpeg\n",
        "- svg\n",
        "- tiff\n",
        "\n",
        "Галерея графиков:\n",
        "\n",
        "https://ru.wikipedia.org/wiki/Matplotlib#.D0.93.D0.B0.D0.BB.D0.B5.D1.80.D0.B5.D1.8F_.D0.B3.D1.80.D0.B0.D1.84.D0.B8.D0.BA.D0.BE.D0.B2\n",
        "\n",
        "https://seaborn.pydata.org/examples/index.html\n",
        "\n",
        "https://docs.bokeh.org/en/latest/docs/gallery.html#notebook-examples"
      ]
    },
    {
      "cell_type": "markdown",
      "metadata": {
        "id": "S3hsaeHfO6CH"
      },
      "source": [
        "## 9. «Магические» директивы в ячейках\n",
        "\n",
        "Директивы, начинающиеся с ```%%``` и позволяющие выполнять код на других диалектах и языках программирования\n",
        "\n",
        "https://nbviewer.jupyter.org/github/ipython/ipython/blob/1.x/examples/notebooks/Cell%20Magics.ipynb\n",
        "\n",
        "\n",
        "```ipython\n",
        "%%html\n",
        "\n",
        "<marquee style='width: 100%; color: blue;'><b>Whee!</b></marquee>\n",
        "\n",
        "````"
      ]
    },
    {
      "cell_type": "code",
      "metadata": {
        "id": "zd6BJ_xQO6CI"
      },
      "source": [
        "%%html\n",
        "\n",
        "<marquee style='width: 100%; color: blue;'><b>Whee!</b></marquee>"
      ],
      "execution_count": null,
      "outputs": []
    },
    {
      "cell_type": "code",
      "metadata": {
        "id": "-bzLGEAbO6CO"
      },
      "source": [
        "# list available python magics\n",
        "%lsmagic\n",
        "\n",
        "text = '1000'"
      ],
      "execution_count": 10,
      "outputs": []
    },
    {
      "cell_type": "code",
      "source": [
        "%pastebin 'text'"
      ],
      "metadata": {
        "colab": {
          "base_uri": "https://localhost:8080/",
          "height": 36
        },
        "id": "agd8g9RyBmdO",
        "outputId": "904bc7f6-0ed4-4ebc-f0ab-ec3c3df18e32"
      },
      "execution_count": 11,
      "outputs": [
        {
          "output_type": "execute_result",
          "data": {
            "text/plain": [
              "'https://dpaste.com/26S8VKERY'"
            ],
            "application/vnd.google.colaboratory.intrinsic+json": {
              "type": "string"
            }
          },
          "metadata": {},
          "execution_count": 11
        }
      ]
    },
    {
      "cell_type": "code",
      "metadata": {
        "id": "WSIBvGZLO6CX"
      },
      "source": [
        "%%javascript\n",
        "\n",
        "console.log(\"hello\")"
      ],
      "execution_count": null,
      "outputs": []
    },
    {
      "cell_type": "markdown",
      "metadata": {
        "id": "3ekTs9RWO6Ce"
      },
      "source": [
        "## 10. Другие «ядра» в Jupyter Notebook\n",
        "\n",
        "Установка ядра ```Javascript```\n",
        "\n",
        "```sh\n",
        "    ruby -e \"$(curl -fsSL https://raw.githubusercontent.com/Homebrew/install/master/install)\"\n",
        "    brew install pkg-config node zeromq\n",
        "    sudo easy_install pip\n",
        "    pip install --upgrade pyzmq jupyter\n",
        "    npm install -g ijavascript\n",
        "    ijsinstall\n",
        "```\n",
        "\n",
        "http://n-riesco.github.io/ijavascript/doc/install.md.html#macos"
      ]
    },
    {
      "cell_type": "markdown",
      "metadata": {
        "id": "tjAL_g_wO6Cf"
      },
      "source": [
        "# 11. Google Colab\n",
        "\n",
        "\n",
        "> Colaboratory, or “Colab” for short, is a product from Google Research. Colab allows anybody to write and execute arbitrary python code through the browser, and is especially well suited to machine learning, data analysis and education. More technically, Colab is a hosted Jupyter notebook service that requires no setup to use, while providing free access to computing resources including GPUs.\n",
        "\n",
        "https://colab.research.google.com/notebooks/intro.ipynb#scrollTo=-Rh3-Vt9Nev9\n",
        "\n"
      ]
    },
    {
      "cell_type": "code",
      "metadata": {
        "id": "Osp5YjHUU6Z4"
      },
      "source": [
        "# для отправки запрсов рекомендуется вместо urllib использовать библиотеку requests\n",
        "\n",
        "# синтаксис - схож\n",
        "\n",
        "\n",
        "import requests\n",
        "\n",
        "data = requests.get('http://pythonscraping.com/pages/page1.html')\n",
        "print(data.content)"
      ],
      "execution_count": null,
      "outputs": []
    },
    {
      "cell_type": "code",
      "source": [
        "print(var)"
      ],
      "metadata": {
        "colab": {
          "base_uri": "https://localhost:8080/"
        },
        "id": "s9-tEb69vc4v",
        "outputId": "f9f06d66-5ed7-4e73-a7cd-a41e51e45374"
      },
      "execution_count": null,
      "outputs": [
        {
          "output_type": "stream",
          "name": "stdout",
          "text": [
            "11111\n"
          ]
        }
      ]
    },
    {
      "cell_type": "code",
      "source": [
        "# print \"dfkjsdlkf\"\n",
        "\n",
        "var = 11111\n"
      ],
      "metadata": {
        "id": "K11tZD8kvctc"
      },
      "execution_count": null,
      "outputs": []
    }
  ]
}